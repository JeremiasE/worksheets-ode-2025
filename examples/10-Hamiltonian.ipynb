{
 "cells": [
  {
   "cell_type": "code",
   "execution_count": 1,
   "id": "74777b59-ca51-42d0-88cd-4149c9de454b",
   "metadata": {},
   "outputs": [],
   "source": [
    "# vector_fields.py contains a bunch of tools to visualize vector fields and related objects\n",
    "# this line is mainly needed to run the notebook in google colab or kaggle\n",
    "_ = !wget https://raw.githubusercontent.com/JeremiasE/worksheets-ode-2025/main/tools/vector_fields.py"
   ]
  },
  {
   "cell_type": "code",
   "execution_count": 2,
   "id": "21a1fb46-bda9-4017-8fac-d3fa840a9ab4",
   "metadata": {},
   "outputs": [],
   "source": [
    "import vector_fields\n",
    "import sympy"
   ]
  },
  {
   "cell_type": "code",
   "execution_count": 3,
   "id": "8eefe95b-a553-484b-8f69-e7007b14350e",
   "metadata": {},
   "outputs": [],
   "source": [
    "(x,y)=sympy.var(\"x,y\")"
   ]
  },
  {
   "cell_type": "markdown",
   "id": "fba1da74-8a7f-44bf-9e86-75c5252c3260",
   "metadata": {},
   "source": [
    "# Wir betrachten den Lösungsfluss für das hamiltonsche System mit $H(x,y)=(x^2+1)y$"
   ]
  },
  {
   "cell_type": "code",
   "execution_count": 4,
   "id": "fb970f1c-be98-47b1-ae6d-efe9dd7c58ff",
   "metadata": {},
   "outputs": [],
   "source": [
    "F=(x**2+1)*y"
   ]
  },
  {
   "cell_type": "code",
   "execution_count": 5,
   "id": "482df2ca-ce7a-4e2d-9354-28bae7e46612",
   "metadata": {},
   "outputs": [],
   "source": [
    "M = sympy.diff(F,x)\n",
    "N = sympy.diff(F,y)"
   ]
  },
  {
   "cell_type": "code",
   "execution_count": 6,
   "id": "e75b7481-6095-49ac-9fd2-8767010d5cd3",
   "metadata": {},
   "outputs": [
    {
     "data": {
      "text/html": [
       "\n",
       "        <iframe\n",
       "            width=\"1300\"\n",
       "            height=\"700\"\n",
       "            src=\"https://anvaka.github.io/fieldplay/?cx=0.0017000000000000348&cy=0&w=8.543199999999999&h=8.543199999999999&dt=0.01&fo=0.998&dp=0.009&cm=1&vf=vec2%20get_velocity%28vec2%20p%29%20%7B%0A%20%20%20%20vec2%20v%20%3D%20vec2%280.%2C%200.%29%3B%0A%20%20%20%20float%20x%20%3D%20p.x%3B%0A%20%20%20%20float%20y%20%3D%20p.y%3B%0A%20%20%20%20v.x%20%3D%20-pow%28abs%28x%29%2C%202.0%29%20-%201.0%3B%0A%20%20%20%20v.y%20%3D%202.0%2Ax%2Ay%3B%0A%20%20%20%20return%20v%3B%0A%20%20%20%20%7D\"\n",
       "            frameborder=\"0\"\n",
       "            allowfullscreen\n",
       "            \n",
       "        ></iframe>\n",
       "        "
      ],
      "text/plain": [
       "<IPython.lib.display.IFrame at 0x708225d0a900>"
      ]
     },
     "execution_count": 6,
     "metadata": {},
     "output_type": "execute_result"
    }
   ],
   "source": [
    "vector_fields.field_player((-N,M))"
   ]
  },
  {
   "cell_type": "code",
   "execution_count": null,
   "id": "6212de88-6ecf-4a13-b3f5-80f179e16312",
   "metadata": {},
   "outputs": [],
   "source": []
  }
 ],
 "metadata": {
  "kernelspec": {
   "display_name": "Python 3 (ipykernel)",
   "language": "python",
   "name": "python3"
  },
  "language_info": {
   "codemirror_mode": {
    "name": "ipython",
    "version": 3
   },
   "file_extension": ".py",
   "mimetype": "text/x-python",
   "name": "python",
   "nbconvert_exporter": "python",
   "pygments_lexer": "ipython3",
   "version": "3.13.5"
  }
 },
 "nbformat": 4,
 "nbformat_minor": 5
}
