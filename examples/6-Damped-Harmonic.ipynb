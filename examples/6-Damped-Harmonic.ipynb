{
 "cells": [
  {
   "cell_type": "code",
   "execution_count": 1,
   "id": "96c4e953-336b-4dce-9fc5-ee0cb0b9655e",
   "metadata": {},
   "outputs": [],
   "source": [
    "# vector_fields.py contains a bunch of tools to visualize vector fields and related objects\n",
    "# this line is mainly needed to run the notebook in google colab or kaggle\n",
    "_ = !wget https://raw.githubusercontent.com/JeremiasE/worksheets-ode-2025/main/tools/vector_fields.py"
   ]
  },
  {
   "cell_type": "code",
   "execution_count": 1,
   "id": "0676d311-3d92-41d8-84de-2802a0057d82",
   "metadata": {},
   "outputs": [],
   "source": [
    "import scipy\n",
    "import scipy.integrate\n",
    "\n",
    "import sympy \n",
    "from sympy import sin, exp,sqrt,sign,cos, Max,pi, log\n",
    "from sympy.utilities import lambdify\n",
    "import numpy as np\n",
    "\n",
    "import matplotlib.pyplot as plt\n",
    "import vector_fields\n",
    "\n",
    "from ipywidgets import interact\n",
    "from ipywidgets import FloatSlider"
   ]
  },
  {
   "cell_type": "code",
   "execution_count": 2,
   "id": "e1bdc502-fc2c-435b-aa50-3b838ab28709",
   "metadata": {},
   "outputs": [],
   "source": [
    "t = sympy.var(\"t\")"
   ]
  },
  {
   "cell_type": "markdown",
   "id": "0ebe9d1e-ac69-438a-a212-384e7e599b41",
   "metadata": {},
   "source": [
    "# Der gedämpfte harmonische Oszillator"
   ]
  },
  {
   "cell_type": "markdown",
   "id": "bac2405e-048e-432d-8089-b20d29c60542",
   "metadata": {},
   "source": [
    "Im Folgenden sind Lösungen des AWP \n",
    "\\begin{align}\n",
    "\\begin{cases}\n",
    "&\\ddot{y}=-\\dot{y}-2a\\dot{y} \\\\\n",
    "&y(0)=\\epsilon,\\; \\dot y(0)=\\delta\n",
    "\\end{cases}\n",
    "\\end{align} \n",
    "mit $a\\geq 0$, $\\epsilon \\geq 0$ dargestellt."
   ]
  },
  {
   "cell_type": "code",
   "execution_count": 3,
   "id": "2fc6268e-9611-4382-88d2-2755944c1e7b",
   "metadata": {},
   "outputs": [
    {
     "data": {
      "application/vnd.jupyter.widget-view+json": {
       "model_id": "4635e18a28454bba9d971abd5c4c0831",
       "version_major": 2,
       "version_minor": 0
      },
      "text/plain": [
       "interactive(children=(FloatSlider(value=1.4000000000000001, description='a', max=3.0, step=0.2), FloatSlider(v…"
      ]
     },
     "metadata": {},
     "output_type": "display_data"
    }
   ],
   "source": [
    "@interact\n",
    "def plot_damped_oscillation(a=(0.,3.,0.2),eps = (0,1.0,0.2),delta = (-1.0,1.0,0.1),tmax=(1,20,1)):\n",
    "    sigma = sqrt(abs(a**2-1))\n",
    "    lambda_1 = -a - sigma\n",
    "    lambda_2 = -a + sigma\n",
    "\n",
    "    if abs(a-1)<0.001:\n",
    "        f = exp(-t)*(eps+t*(eps+delta))\n",
    "    if a < 1:\n",
    "        f = exp(-a*t)*(eps *cos(sigma*t)+(a*eps+delta)/sigma*sin(sigma *t))\n",
    "    if a > 1: \n",
    "        f = ((-eps*lambda_1+delta)*exp(lambda_2*t) - (-eps*lambda_2+delta) * exp(lambda_1*t))/(lambda_2-lambda_1)\n",
    "    g = sympy.diff(f,t)\n",
    "    ax = vector_fields.plot(f,(t,0,tmax))\n",
    "    vector_fields.plot(g,(t,0,tmax),color=\"tab:green\",ax=ax)\n",
    "    vector_fields.plot(0,(t,0,tmax),color=\"tab:red\",ax=ax)\n",
    "    ax.set_ylim(-0.4,0.4)\n",
    "    ax.legend(ax.lines,[\"y\",r\"$\\dot{y}$\",\"0\"])"
   ]
  },
  {
   "cell_type": "code",
   "execution_count": null,
   "id": "17b2d471-b8db-432f-93e1-2a08f59b11f4",
   "metadata": {},
   "outputs": [],
   "source": []
  },
  {
   "cell_type": "code",
   "execution_count": null,
   "id": "f760d9f0-0e89-4e7c-9dd9-fec152db238f",
   "metadata": {},
   "outputs": [],
   "source": []
  }
 ],
 "metadata": {
  "kernelspec": {
   "display_name": "Python 3 (ipykernel)",
   "language": "python",
   "name": "python3"
  },
  "language_info": {
   "codemirror_mode": {
    "name": "ipython",
    "version": 3
   },
   "file_extension": ".py",
   "mimetype": "text/x-python",
   "name": "python",
   "nbconvert_exporter": "python",
   "pygments_lexer": "ipython3",
   "version": "3.13.5"
  }
 },
 "nbformat": 4,
 "nbformat_minor": 5
}
