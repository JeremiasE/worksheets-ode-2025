{
 "cells": [
  {
   "cell_type": "code",
   "execution_count": 1,
   "id": "bb5baaf8-9ff8-459a-8e10-8567f7cb6942",
   "metadata": {},
   "outputs": [],
   "source": [
    "# vector_fields.py contains a bunch of tools to visualize vector fields and related objects\n",
    "# this line is mainly needed to run the notebook in google colab or kaggle\n",
    "_ = !wget https://raw.githubusercontent.com/JeremiasE/worksheets-ode-2025/main/tools/vector_fields.py"
   ]
  },
  {
   "cell_type": "code",
   "execution_count": 19,
   "id": "dc0b4637-599b-4701-bc61-2b5edd49fc3e",
   "metadata": {
    "tags": []
   },
   "outputs": [],
   "source": [
    "from ipywidgets import interact, fixed\n",
    "from ipywidgets import Dropdown\n",
    "from sympy import sin, cos, tan, exp, atan"
   ]
  },
  {
   "cell_type": "code",
   "execution_count": 2,
   "id": "11d6d179-ce84-4757-b2fe-f8be062acde1",
   "metadata": {},
   "outputs": [],
   "source": [
    "import vector_fields\n",
    "import sympy"
   ]
  },
  {
   "cell_type": "code",
   "execution_count": 3,
   "id": "70b48fe6-368f-41be-81d4-aa09ca5df0e3",
   "metadata": {
    "tags": []
   },
   "outputs": [],
   "source": [
    "(t,x,y) = sympy.var(\"t,x,y\")"
   ]
  },
  {
   "cell_type": "markdown",
   "id": "ae92af27-bc57-4867-9e3c-6ef4628996b8",
   "metadata": {
    "tags": []
   },
   "source": [
    "# Einige schöne Lösungsflüsse autonomer Differentialgleichungen"
   ]
  },
  {
   "cell_type": "code",
   "execution_count": 23,
   "id": "a34296fc-3da9-4912-8177-6e8c38a7888c",
   "metadata": {
    "tags": []
   },
   "outputs": [
    {
     "data": {
      "application/vnd.jupyter.widget-view+json": {
       "model_id": "04c2b45ec72541229a3973bcf3b6238b",
       "version_major": 2,
       "version_minor": 0
      },
      "text/plain": [
       "interactive(children=(Dropdown(description='f', options=(('(x*(1 - y), y*(2*x - 3))', (x*(1 - y), y*(2*x - 3))…"
      ]
     },
     "metadata": {},
     "output_type": "display_data"
    },
    {
     "data": {
      "text/plain": [
       "<function vector_fields.field_player(f, width=1300, height=700)>"
      ]
     },
     "execution_count": 23,
     "metadata": {},
     "output_type": "execute_result"
    }
   ],
   "source": [
    "r=sympy.sqrt(x*x+y*y)\n",
    "functions = [\n",
    "    (x*(1-y),y*(2*x-3)),\n",
    "    (x,y),\n",
    "    (-x,y),\n",
    "    (sin(x),cos(y)),\n",
    "    (x*y+x-y*2,x-y),\n",
    "    (x+y,sin(y)),\n",
    "    (-y/2*(1-x/r)+x*(1-r),(x/2*(1-x/r)+y*(1-r))),\n",
    "    ((x**2*(y-x)+y**5)/(r**2*(1+r**4)),(y**2*(y-2*x))/(r**2*(1+r**4)))\n",
    "]\n",
    "interact(vector_fields.field_player,f =Dropdown(options=[(str(i), i) for i in functions]), width=fixed(1300), height=fixed(700))"
   ]
  },
  {
   "cell_type": "markdown",
   "id": "dadb0e00-9a28-4c0f-8c43-1ad87fbc5511",
   "metadata": {},
   "source": [
    "# Eigene Lösungsflüsse"
   ]
  },
  {
   "cell_type": "code",
   "execution_count": 22,
   "id": "cc1a4032-04e2-4b85-96c6-15dbe4e585b9",
   "metadata": {},
   "outputs": [
    {
     "data": {
      "text/html": [
       "\n",
       "        <iframe\n",
       "            width=\"1300\"\n",
       "            height=\"700\"\n",
       "            src=\"https://anvaka.github.io/fieldplay/?cx=0.0017000000000000348&cy=0&w=8.543199999999999&h=8.543199999999999&dt=0.01&fo=0.998&dp=0.009&cm=1&vf=vec2%20get_velocity%28vec2%20p%29%20%7B%0A%20%20%20%20vec2%20v%20%3D%20vec2%280.%2C%200.%29%3B%0A%20%20%20%20float%20x%20%3D%20p.x%3B%0A%20%20%20%20float%20y%20%3D%20p.y%3B%0A%20%20%20%20v.x%20%3D%20x%2Ay%3B%0A%20%20%20%20v.y%20%3D%20tan%28x%2Ay%29%3B%0A%20%20%20%20return%20v%3B%0A%20%20%20%20%7D\"\n",
       "            frameborder=\"0\"\n",
       "            allowfullscreen\n",
       "            \n",
       "        ></iframe>\n",
       "        "
      ],
      "text/plain": [
       "<IPython.lib.display.IFrame at 0x78eb229e6650>"
      ]
     },
     "execution_count": 22,
     "metadata": {},
     "output_type": "execute_result"
    }
   ],
   "source": [
    "f = (x*y,tan(x*y))\n",
    "vector_fields.field_player(f)"
   ]
  },
  {
   "cell_type": "code",
   "execution_count": null,
   "id": "d3d60643-4a3d-41cb-8a35-6e77c6ccd68e",
   "metadata": {},
   "outputs": [],
   "source": []
  }
 ],
 "metadata": {
  "kernelspec": {
   "display_name": "Python 3 (ipykernel)",
   "language": "python",
   "name": "python3"
  },
  "language_info": {
   "codemirror_mode": {
    "name": "ipython",
    "version": 3
   },
   "file_extension": ".py",
   "mimetype": "text/x-python",
   "name": "python",
   "nbconvert_exporter": "python",
   "pygments_lexer": "ipython3",
   "version": "3.13.3"
  }
 },
 "nbformat": 4,
 "nbformat_minor": 5
}
