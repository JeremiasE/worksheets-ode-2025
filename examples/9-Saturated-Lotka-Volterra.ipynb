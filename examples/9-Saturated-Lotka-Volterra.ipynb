{
 "cells": [
  {
   "cell_type": "code",
   "execution_count": 1,
   "id": "00042aca-3e48-4400-b176-d12ab399c58b",
   "metadata": {},
   "outputs": [],
   "source": [
    "# vector_fields.py contains a bunch of tools to visualize vector fields and related objects\n",
    "# this line is mainly needed to run the notebook in google colab or kaggle\n",
    "_ = !wget https://raw.githubusercontent.com/JeremiasE/worksheets-ode-2025/main/tools/vector_fields.py"
   ]
  },
  {
   "cell_type": "code",
   "execution_count": 1,
   "id": "400fa9d9-841c-404f-916b-a7906ddb587c",
   "metadata": {},
   "outputs": [],
   "source": [
    "from ipywidgets import interact, fixed\n",
    "import sympy\n",
    "import vector_fields\n",
    "from sympy import init_printing\n",
    "init_printing() "
   ]
  },
  {
   "cell_type": "code",
   "execution_count": 2,
   "id": "5c0cb5ff-44e5-4d3a-b87f-26e927939c9c",
   "metadata": {},
   "outputs": [],
   "source": [
    "(t,x,y)=sympy.var(\"t,x,y\")"
   ]
  },
  {
   "cell_type": "markdown",
   "id": "955d23b6-4964-4e40-88d7-40b5e08170a6",
   "metadata": {},
   "source": [
    "# Lotka-Volterra mit Sättigung"
   ]
  },
  {
   "cell_type": "markdown",
   "id": "2e658103-7fb4-4a84-822d-b52a3e893115",
   "metadata": {},
   "source": [
    "Wir betrachten die Differentialgleichung\n",
    "     \\begin{align}\n",
    "       \\dot x(t) &= x(t)(a-by(t)-fx(t)) \\\\\n",
    "       \\dot y(t) &=y(t)(cx(t)-d)\n",
    "     \\end{align}"
   ]
  },
  {
   "cell_type": "code",
   "execution_count": 3,
   "id": "b8091fa9-b576-42e6-9775-3104d7d70ee3",
   "metadata": {},
   "outputs": [
    {
     "data": {
      "application/vnd.jupyter.widget-view+json": {
       "model_id": "44864443719e43d6a4d99d365d8bb82e",
       "version_major": 2,
       "version_minor": 0
      },
      "text/plain": [
       "interactive(children=(FloatSlider(value=1.0, description='a', max=2.0, step=0.2), FloatSlider(value=1.0, descr…"
      ]
     },
     "metadata": {},
     "output_type": "display_data"
    }
   ],
   "source": [
    "@interact\n",
    "def plot_saturated_lotka_volterra(a=(0,2,0.2),b=(0,2,0.2),c=(0,2,0.2),d=(0,2,0.2),f=(0,2,0.2)):\n",
    "    M = x*(a-b*y-f*x)\n",
    "    N = y*(c*x-d)\n",
    "    vector_fields.plot_streamlines((M,N),(x,0,4),(y,0,4))"
   ]
  },
  {
   "cell_type": "code",
   "execution_count": null,
   "id": "26df9fab-052d-486a-ad43-89bd89a85431",
   "metadata": {},
   "outputs": [],
   "source": []
  }
 ],
 "metadata": {
  "kernelspec": {
   "display_name": "Python 3 (ipykernel)",
   "language": "python",
   "name": "python3"
  },
  "language_info": {
   "codemirror_mode": {
    "name": "ipython",
    "version": 3
   },
   "file_extension": ".py",
   "mimetype": "text/x-python",
   "name": "python",
   "nbconvert_exporter": "python",
   "pygments_lexer": "ipython3",
   "version": "3.13.5"
  }
 },
 "nbformat": 4,
 "nbformat_minor": 5
}
